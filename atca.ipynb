{
 "cells": [
  {
   "cell_type": "code",
   "execution_count": 1,
   "metadata": {},
   "outputs": [],
   "source": [
    "import threading\n",
    "from time import sleep\n",
    "import random\n"
   ]
  },
  {
   "cell_type": "code",
   "execution_count": 2,
   "metadata": {},
   "outputs": [],
   "source": [
    "runway1 = threading.Semaphore(1)\n",
    "runway2 = threading.Semaphore(1)\n",
    "\n",
    "def wait_for_runway1(plane_no):\n",
    "    print(f\"Plane {plane_no} is waiting for runway 1\\n\")\n",
    "    while runway1._value <= 0:\n",
    "        pass\n",
    "    runway1.acquire()\n",
    "\n",
    "def wait_for_runway2(plane_no):\n",
    "    print(f\"Plane {plane_no} is waiting for runway 2\\n\")\n",
    "    while runway2._value <= 0:\n",
    "        pass\n",
    "    runway2.acquire()"
   ]
  },
  {
   "cell_type": "code",
   "execution_count": 3,
   "metadata": {},
   "outputs": [],
   "source": [
    "def plane_for_runway1(plane_no):\n",
    "    wait_for_runway1(plane_no)\n",
    "    print(f\"Plane {plane_no} is landing on runway 1\\n\")\n",
    "    sleep(2)\n",
    "    print(f\"Plane {plane_no} is taking off from runway 1\\n\")\n",
    "    runway1.release()\n",
    "\n",
    "def plane_for_runway2(plane_no):\n",
    "    wait_for_runway2(plane_no)\n",
    "    print(f\"Plane {plane_no} is landing on runway 2\\n\")\n",
    "    sleep(2)\n",
    "    print(f\"Plane {plane_no} is taking off from runway 2\\n\")\n",
    "    runway2.release()"
   ]
  },
  {
   "cell_type": "code",
   "execution_count": 4,
   "metadata": {},
   "outputs": [
    {
     "name": "stdout",
     "output_type": "stream",
     "text": [
      "Plane 1 is waiting for runway 1\n",
      "\n",
      "Plane 1 is landing on runway 1\n",
      "\n",
      "Plane 2 is waiting for runway 2\n",
      "\n",
      "Plane 2 is landing on runway 2\n",
      "\n",
      "Plane 2 is taking off from runway 2\n",
      "\n",
      "Plane 1 is taking off from runway 1\n",
      "\n"
     ]
    }
   ],
   "source": [
    "def plane(plane_no):\n",
    "    # if runway_no == 1:\n",
    "    #     plane_for_runway1(plane_no)\n",
    "    # if runway_no == 2:\n",
    "    #     plane_for_runway2(plane_no)\n",
    "    if runway1._value == 1:\n",
    "        plane_for_runway1(plane_no)\n",
    "    elif runway2._value == 1:\n",
    "        plane_for_runway2(plane_no)\n",
    "\n",
    "t1 = threading.Thread(target=plane, args=[1])\n",
    "t2 = threading.Thread(target=plane, args=[2])\n",
    "t3 = threading.Thread(target=plane, args=[3])\n",
    "\n",
    "t1.start()\n",
    "t2.start()\n",
    "t3.start()\n",
    "\n",
    "t1.join()\n",
    "t2.join()\n",
    "t3.join()"
   ]
  },
  {
   "cell_type": "code",
   "execution_count": null,
   "metadata": {},
   "outputs": [],
   "source": []
  }
 ],
 "metadata": {
  "interpreter": {
   "hash": "1e915f0a29dc84041eaeb02b7b1a21c440e37a87b61d44d5e84a515737dc82bc"
  },
  "kernelspec": {
   "display_name": "Python 3.9.7 ('base')",
   "language": "python",
   "name": "python3"
  },
  "language_info": {
   "codemirror_mode": {
    "name": "ipython",
    "version": 3
   },
   "file_extension": ".py",
   "mimetype": "text/x-python",
   "name": "python",
   "nbconvert_exporter": "python",
   "pygments_lexer": "ipython3",
   "version": "3.9.7"
  },
  "orig_nbformat": 4
 },
 "nbformat": 4,
 "nbformat_minor": 2
}
